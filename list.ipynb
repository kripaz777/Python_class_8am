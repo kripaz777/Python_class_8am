{
 "cells": [
  {
   "cell_type": "code",
   "execution_count": 1,
   "id": "4f1f2360",
   "metadata": {},
   "outputs": [],
   "source": [
    "# Python collection\n",
    "# list\n",
    "# tuple\n",
    "# dict\n",
    "# set"
   ]
  },
  {
   "cell_type": "code",
   "execution_count": 2,
   "id": "d9b6d701",
   "metadata": {},
   "outputs": [],
   "source": [
    "# list\n",
    "# Indexing\n",
    "# Multiple data\n",
    "# Duplicate\n",
    "# Mutable"
   ]
  },
  {
   "cell_type": "code",
   "execution_count": 4,
   "id": "adf25785",
   "metadata": {},
   "outputs": [],
   "source": [
    "l = []\n",
    "l = list()\n"
   ]
  },
  {
   "cell_type": "code",
   "execution_count": 5,
   "id": "794c5284",
   "metadata": {},
   "outputs": [
    {
     "name": "stdout",
     "output_type": "stream",
     "text": [
      "<class 'list'>\n",
      "[1, 2, 3, 4, 5, 6, 7, 8, 9, 0]\n"
     ]
    }
   ],
   "source": [
    "a = [1,2,3,4,5,6,7,8,9,0]\n",
    "print(type(a))\n",
    "print(a)"
   ]
  },
  {
   "cell_type": "code",
   "execution_count": 10,
   "id": "1b50ada9",
   "metadata": {},
   "outputs": [
    {
     "name": "stdout",
     "output_type": "stream",
     "text": [
      "Ball\n",
      "['Apple', 'Ball', 'Cat', 'Dog']\n",
      "['Apple', 'Cat', 'Fish']\n"
     ]
    }
   ],
   "source": [
    "a = [\"Apple\", \"Ball\",\"Cat\",\"Dog\",\"Fish\"]\n",
    "print(a[1])\n",
    "print(a[0:4])\n",
    "print(a[0:50:2])"
   ]
  },
  {
   "cell_type": "code",
   "execution_count": 11,
   "id": "400e95a7",
   "metadata": {},
   "outputs": [
    {
     "data": {
      "text/plain": [
       "['Apple', 'Ball', 'Cat', 'Dog', 'Fish', 'Apple']"
      ]
     },
     "execution_count": 11,
     "metadata": {},
     "output_type": "execute_result"
    }
   ],
   "source": [
    "a = [\"Apple\", \"Ball\",\"Cat\",\"Dog\",\"Fish\",\"Apple\"]\n",
    "a"
   ]
  },
  {
   "cell_type": "code",
   "execution_count": 12,
   "id": "58a2d6a8",
   "metadata": {},
   "outputs": [
    {
     "name": "stdout",
     "output_type": "stream",
     "text": [
      "[1, 2, 3, 2]\n"
     ]
    }
   ],
   "source": [
    "a = [1,2,3]\n",
    "b = [2]\n",
    "c = a+b\n",
    "print(c)"
   ]
  },
  {
   "cell_type": "code",
   "execution_count": 13,
   "id": "e8ebaa77",
   "metadata": {},
   "outputs": [
    {
     "name": "stdout",
     "output_type": "stream",
     "text": [
      "[1, 2, 3, 1, 2, 3]\n"
     ]
    }
   ],
   "source": [
    "a = [1,2,3]\n",
    "b = 2\n",
    "print(a*b)"
   ]
  },
  {
   "cell_type": "code",
   "execution_count": 14,
   "id": "64203f8d",
   "metadata": {},
   "outputs": [
    {
     "name": "stdout",
     "output_type": "stream",
     "text": [
      "Enter n = 5\n",
      "Enter x = 123\n",
      "Enter x = 345\n",
      "Enter x = 456\n",
      "Enter x = 87\n",
      "Enter x = 345\n",
      "[123, 345, 456, 87, 345]\n"
     ]
    }
   ],
   "source": [
    "l = []\n",
    "n = int(input(\"Enter n = \"))\n",
    "for i in range(n):\n",
    "    x = int(input(\"Enter x = \"))\n",
    "    l = l + [x]\n",
    "    \n",
    "print(l)"
   ]
  },
  {
   "cell_type": "code",
   "execution_count": 16,
   "id": "61100cc6",
   "metadata": {},
   "outputs": [
    {
     "name": "stdout",
     "output_type": "stream",
     "text": [
      "The max value =  456\n",
      "The min value =  87\n",
      "The sum =  1356\n"
     ]
    }
   ],
   "source": [
    "l = [123, 345, 456, 87, 345]\n",
    "print(\"The max value = \",max(l))\n",
    "print(\"The min value = \",min(l))\n",
    "print(\"The sum = \",sum(l))\n"
   ]
  },
  {
   "cell_type": "code",
   "execution_count": 17,
   "id": "0e9ed5e4",
   "metadata": {},
   "outputs": [
    {
     "name": "stdout",
     "output_type": "stream",
     "text": [
      "[87, 123, 345, 345, 456]\n"
     ]
    }
   ],
   "source": [
    "l.sort()\n",
    "print(l)"
   ]
  },
  {
   "cell_type": "code",
   "execution_count": 18,
   "id": "95584c05",
   "metadata": {},
   "outputs": [
    {
     "name": "stdout",
     "output_type": "stream",
     "text": [
      "[456, 345, 345, 123, 87]\n"
     ]
    }
   ],
   "source": [
    "l.reverse()\n",
    "print(l)"
   ]
  },
  {
   "cell_type": "code",
   "execution_count": null,
   "id": "7cc62c4e",
   "metadata": {},
   "outputs": [],
   "source": [
    "# # # add values\n",
    "# # append() insert() extend()\n",
    "\n",
    "# delete values\n",
    "#del remove() pop()"
   ]
  },
  {
   "cell_type": "code",
   "execution_count": 19,
   "id": "27c93d01",
   "metadata": {},
   "outputs": [
    {
     "name": "stdout",
     "output_type": "stream",
     "text": [
      "Apple\n",
      "Ball\n",
      "Cat\n",
      "Dog\n",
      "Fish\n",
      "Apple\n"
     ]
    }
   ],
   "source": [
    "a = [\"Apple\", \"Ball\",\"Cat\",\"Dog\",\"Fish\",\"Apple\"]\n",
    "for i in a:\n",
    "    print(i)"
   ]
  },
  {
   "cell_type": "code",
   "execution_count": 20,
   "id": "268e14f4",
   "metadata": {},
   "outputs": [
    {
     "name": "stdout",
     "output_type": "stream",
     "text": [
      "Apple\n",
      "Ball\n",
      "Cat\n",
      "Dog\n",
      "Fish\n",
      "Apple\n"
     ]
    }
   ],
   "source": [
    "for i in range(len(a)):\n",
    "    print(a[i])"
   ]
  },
  {
   "cell_type": "code",
   "execution_count": 22,
   "id": "2b1a597a",
   "metadata": {},
   "outputs": [
    {
     "name": "stdout",
     "output_type": "stream",
     "text": [
      "yes\n",
      "1\n"
     ]
    }
   ],
   "source": [
    "a = [\"Ram\",'Shyam','Hari','Sita','Gita',\"Nabin\",\"Ramesh\"]\n",
    "if \"Ram\" in a:\n",
    "    print(\"yes\")\n",
    "    print(a.count(\"Ram\"))\n",
    "else:\n",
    "    print(\"no\")"
   ]
  },
  {
   "cell_type": "code",
   "execution_count": 23,
   "id": "50327777",
   "metadata": {},
   "outputs": [],
   "source": [
    "# WAP to search any value in a list have case insencitive"
   ]
  },
  {
   "cell_type": "code",
   "execution_count": 25,
   "id": "c0f8169f",
   "metadata": {},
   "outputs": [
    {
     "data": {
      "text/plain": [
       "[1, 2, 3, 4, 5, 'Apple', 'Ball']"
      ]
     },
     "execution_count": 25,
     "metadata": {},
     "output_type": "execute_result"
    }
   ],
   "source": [
    "# append()\n",
    "a = [1,2,3,4,5]\n",
    "a.append(\"Apple\")\n",
    "a.append(\"Ball\")\n",
    "a"
   ]
  },
  {
   "cell_type": "code",
   "execution_count": 26,
   "id": "0f4d630e",
   "metadata": {},
   "outputs": [
    {
     "data": {
      "text/plain": [
       "['Apple', 'Ball', 'Can', 'Cat', 'Fish', 'Egg']"
      ]
     },
     "execution_count": 26,
     "metadata": {},
     "output_type": "execute_result"
    }
   ],
   "source": [
    "# insert()\n",
    "a = ['Apple', 'Ball',\"Cat\",\"Fish\",\"Egg\"]\n",
    "a.insert(2,\"Can\")\n",
    "a"
   ]
  },
  {
   "cell_type": "code",
   "execution_count": 30,
   "id": "795125b8",
   "metadata": {},
   "outputs": [
    {
     "name": "stdout",
     "output_type": "stream",
     "text": [
      "['Apple', 'Ball', 'Cat', 'Fish', 'Egg', 1, 2, 3, 4]\n"
     ]
    }
   ],
   "source": [
    "# extend()\n",
    "a = ['Apple', 'Ball',\"Cat\",\"Fish\",\"Egg\"]\n",
    "b = [1,2,3,4]\n",
    "a.extend(b)\n",
    "print(a)"
   ]
  },
  {
   "cell_type": "code",
   "execution_count": 32,
   "id": "e75f3742",
   "metadata": {},
   "outputs": [
    {
     "data": {
      "text/plain": [
       "['Ant', 'Ball', 'Cat', 'Fish', 'Egg']"
      ]
     },
     "execution_count": 32,
     "metadata": {},
     "output_type": "execute_result"
    }
   ],
   "source": [
    "# update\n",
    "a = ['Apple', 'Ball',\"Cat\",\"Fish\",\"Egg\"]\n",
    "a[0] = \"Ant\"\n",
    "a"
   ]
  },
  {
   "cell_type": "code",
   "execution_count": 34,
   "id": "c890235e",
   "metadata": {},
   "outputs": [
    {
     "data": {
      "text/plain": [
       "['apple', 'ball', 'Cat', 'Fish', 'Egg']"
      ]
     },
     "execution_count": 34,
     "metadata": {},
     "output_type": "execute_result"
    }
   ],
   "source": [
    "a = ['Apple', 'Ball',\"Cat\",\"Fish\",\"Egg\"]\n",
    "a[0:2] = [\"apple\",\"ball\"]\n",
    "a"
   ]
  },
  {
   "cell_type": "code",
   "execution_count": 1,
   "id": "6d392454",
   "metadata": {},
   "outputs": [],
   "source": [
    "# delete \n",
    "# del remove() pop()"
   ]
  },
  {
   "cell_type": "code",
   "execution_count": 2,
   "id": "68e724df",
   "metadata": {},
   "outputs": [
    {
     "name": "stdout",
     "output_type": "stream",
     "text": [
      "['ball', 'Cat', 'Fish', 'Egg']\n"
     ]
    }
   ],
   "source": [
    "a = ['apple', 'ball', 'Cat', 'Fish', 'Egg']\n",
    "del a[0]\n",
    "print(a)"
   ]
  },
  {
   "cell_type": "code",
   "execution_count": 3,
   "id": "320541db",
   "metadata": {},
   "outputs": [
    {
     "data": {
      "text/plain": [
       "['Fish', 'Egg']"
      ]
     },
     "execution_count": 3,
     "metadata": {},
     "output_type": "execute_result"
    }
   ],
   "source": [
    "a = ['apple', 'ball', 'Cat', 'Fish', 'Egg']\n",
    "del a[0:3]\n",
    "a"
   ]
  },
  {
   "cell_type": "code",
   "execution_count": 7,
   "id": "03af2117",
   "metadata": {},
   "outputs": [
    {
     "name": "stdout",
     "output_type": "stream",
     "text": [
      "['ball', 'Cat', 'Fish', 'Egg']\n"
     ]
    }
   ],
   "source": [
    "a = ['apple', 'ball', 'Cat', 'Fish', 'Egg','apple']\n",
    "a.remove('apple')\n",
    "a.remove('apple')\n",
    "print(a)"
   ]
  },
  {
   "cell_type": "code",
   "execution_count": 5,
   "id": "4082eb9d",
   "metadata": {},
   "outputs": [
    {
     "name": "stdout",
     "output_type": "stream",
     "text": [
      "['ball', 'Cat', 'Fish', 'Egg']\n"
     ]
    }
   ],
   "source": [
    "a = ['apple', 'ball', 'Cat', 'Fish', 'Egg','apple']\n",
    "c = a.count('apple')\n",
    "for i in range(c):\n",
    "    a.remove('apple')\n",
    "print(a)"
   ]
  },
  {
   "cell_type": "code",
   "execution_count": 9,
   "id": "7541cffe",
   "metadata": {},
   "outputs": [
    {
     "name": "stdout",
     "output_type": "stream",
     "text": [
      "['ball', 'Cat', 'Fish', 'Egg', 'apple']\n",
      "apple\n"
     ]
    }
   ],
   "source": [
    "a = ['apple', 'ball', 'Cat', 'Fish', 'Egg','apple']\n",
    "b = a.pop(0)\n",
    "print(a)\n",
    "print(b)"
   ]
  },
  {
   "cell_type": "code",
   "execution_count": 10,
   "id": "0e0ed674",
   "metadata": {},
   "outputs": [],
   "source": [
    "# list inside list\n",
    "a = [[1,2,3],\n",
    "     [4,5,6],\n",
    "     [7,8,9]]"
   ]
  },
  {
   "cell_type": "code",
   "execution_count": 15,
   "id": "976a925c",
   "metadata": {},
   "outputs": [
    {
     "name": "stdout",
     "output_type": "stream",
     "text": [
      "[1, 2, 3]\n",
      "6\n"
     ]
    }
   ],
   "source": [
    "print(a[0])\n",
    "print(a[1][2])"
   ]
  },
  {
   "cell_type": "code",
   "execution_count": 16,
   "id": "a195f918",
   "metadata": {},
   "outputs": [
    {
     "data": {
      "text/plain": [
       "[['Ram', 45, 'Kathmandu'],\n",
       " ['Shyam', 56, 'Lalitpur'],\n",
       " ['Hari', 89, 'Bhaktapur']]"
      ]
     },
     "execution_count": 16,
     "metadata": {},
     "output_type": "execute_result"
    }
   ],
   "source": [
    "a = [['Ram',45,'Kathmandu'],\n",
    "    ['Shyam',56,'Lalitpur'],\n",
    "    ['Hari',89,'Bhaktapur']]\n",
    "a"
   ]
  },
  {
   "cell_type": "code",
   "execution_count": 17,
   "id": "a5664704",
   "metadata": {},
   "outputs": [
    {
     "name": "stdout",
     "output_type": "stream",
     "text": [
      "Enter n = 2\n",
      "Enter name = Ram\n",
      "Enter age = 45\n",
      "Enter add = Kathmandu\n",
      "Enter name = Shyam\n",
      "Enter age = 78\n",
      "Enter add = Bhaktapur\n",
      "[['Ram', 45, 'Kathmandu'], ['Shyam', 78, 'Bhaktapur']]\n"
     ]
    }
   ],
   "source": [
    "a = []\n",
    "n = int(input(\"Enter n = \"))\n",
    "for i in range(n):\n",
    "    name = input(\"Enter name = \")\n",
    "    age = int(input(\"Enter age = \"))\n",
    "    add = input(\"Enter add = \")\n",
    "    info = [name,age,add]\n",
    "    a.append(info)\n",
    "    \n",
    "print(a)"
   ]
  },
  {
   "cell_type": "code",
   "execution_count": 4,
   "id": "a000908c",
   "metadata": {},
   "outputs": [
    {
     "data": {
      "text/plain": [
       "['Ram', 45, 'Kathmandu']"
      ]
     },
     "execution_count": 4,
     "metadata": {},
     "output_type": "execute_result"
    }
   ],
   "source": [
    "#search\n",
    "a = [['Ram', 45, 'Kathmandu'],\n",
    "     ['Shyam', 78, 'Bhaktapur'],\n",
    "     ['Hari',56,'Lalitpur'],\n",
    "     ['Ram',23,'Jhapa']]"
   ]
  },
  {
   "cell_type": "code",
   "execution_count": 5,
   "id": "5b9994d6",
   "metadata": {},
   "outputs": [
    {
     "name": "stdout",
     "output_type": "stream",
     "text": [
      "['Ram', 45, 'Kathmandu']\n",
      "['Shyam', 78, 'Bhaktapur']\n",
      "['Hari', 56, 'Lalitpur']\n",
      "['Ram', 23, 'Jhapa']\n"
     ]
    }
   ],
   "source": [
    "# name = input(\"Enter name = \")\n",
    "for i in a:\n",
    "    print(i)"
   ]
  },
  {
   "cell_type": "code",
   "execution_count": 8,
   "id": "4641bdca",
   "metadata": {},
   "outputs": [
    {
     "name": "stdout",
     "output_type": "stream",
     "text": [
      "Ram\n",
      "Shyam\n",
      "Hari\n",
      "Ram\n"
     ]
    }
   ],
   "source": [
    "# name = input(\"Enter name = \")\n",
    "for i in a:\n",
    "    print(i[0])"
   ]
  },
  {
   "cell_type": "code",
   "execution_count": 9,
   "id": "13d652df",
   "metadata": {},
   "outputs": [
    {
     "name": "stdout",
     "output_type": "stream",
     "text": [
      "Enter name = Ram\n",
      "['Ram', 45, 'Kathmandu']\n",
      "['Ram', 23, 'Jhapa']\n"
     ]
    }
   ],
   "source": [
    "name = input(\"Enter name = \")\n",
    "for i in a:\n",
    "    if i[0] == name:\n",
    "        print(i)"
   ]
  },
  {
   "cell_type": "code",
   "execution_count": 10,
   "id": "d71c346d",
   "metadata": {},
   "outputs": [
    {
     "name": "stdout",
     "output_type": "stream",
     "text": [
      "Enter name = Ram\n",
      "['Ram', 45, 'Kathmandu']\n",
      "['Ram', 23, 'Jhapa']\n"
     ]
    }
   ],
   "source": [
    "name = input(\"Enter name = \")\n",
    "for i in a:\n",
    "    if name in i:\n",
    "        print(i)"
   ]
  },
  {
   "cell_type": "code",
   "execution_count": 9,
   "id": "cedf0909",
   "metadata": {},
   "outputs": [
    {
     "name": "stdout",
     "output_type": "stream",
     "text": [
      "Enter name = Ram\n",
      "['Ram', 45, 'Kathmandu']\n",
      "['Ram', 23, 'Jhapa']\n",
      "The is 2 records\n"
     ]
    }
   ],
   "source": [
    "#search\n",
    "c = 0\n",
    "a = [['Ram', 45, 'Kathmandu'],\n",
    "     ['Shyam', 78, 'Bhaktapur'],\n",
    "     ['Hari',56,'Lalitpur'],\n",
    "     ['Ram',23,'Jhapa']]\n",
    "name = input(\"Enter name = \")\n",
    "for i in a:\n",
    "    if i[0].lower() == name.lower():\n",
    "        print(i)\n",
    "        c = c + 1\n",
    "print(f\"The is {c} records\")"
   ]
  },
  {
   "cell_type": "code",
   "execution_count": 3,
   "id": "2fff3e4b",
   "metadata": {},
   "outputs": [
    {
     "data": {
      "text/plain": [
       "[['Ram', 45, 'Kathmandu'],\n",
       " ['Shyam', 78, 'Bhaktapur'],\n",
       " ['Hari', 56, 'Lalitpur'],\n",
       " ['Ram', 23, 'Jhapa'],\n",
       " ['Nabin', 67, 'Chitwan']]"
      ]
     },
     "execution_count": 3,
     "metadata": {},
     "output_type": "execute_result"
    }
   ],
   "source": [
    "a.append(['Nabin',67,'Chitwan'])\n",
    "a"
   ]
  },
  {
   "cell_type": "code",
   "execution_count": 12,
   "id": "acb333d9",
   "metadata": {},
   "outputs": [
    {
     "data": {
      "text/plain": [
       "[['Ram Prasad', 45, 'Kathmandu'],\n",
       " ['Shyam', 78, 'Bhaktapur'],\n",
       " ['Hari', 56, 'Lalitpur'],\n",
       " ['Ram', 23, 'Jhapa']]"
      ]
     },
     "execution_count": 12,
     "metadata": {},
     "output_type": "execute_result"
    }
   ],
   "source": [
    "# Update\n",
    "a = [['Ram', 45, 'Kathmandu'],\n",
    "     ['Shyam', 78, 'Bhaktapur'],\n",
    "     ['Hari',56,'Lalitpur'],\n",
    "     ['Ram',23,'Jhapa']]\n",
    "a[0][0] = \"Ram Prasad\"\n",
    "a"
   ]
  },
  {
   "cell_type": "code",
   "execution_count": 13,
   "id": "96267dbb",
   "metadata": {},
   "outputs": [
    {
     "data": {
      "text/plain": [
       "['Ram Prasad', 45, 'Kathmandu']"
      ]
     },
     "execution_count": 13,
     "metadata": {},
     "output_type": "execute_result"
    }
   ],
   "source": [
    "# delete\n",
    "del a[0]"
   ]
  },
  {
   "cell_type": "code",
   "execution_count": null,
   "id": "187e98a2",
   "metadata": {},
   "outputs": [],
   "source": [
    "# WAP to create a matrix having n no rows and columns"
   ]
  },
  {
   "cell_type": "code",
   "execution_count": null,
   "id": "a1beae5b",
   "metadata": {},
   "outputs": [],
   "source": []
  },
  {
   "cell_type": "code",
   "execution_count": null,
   "id": "39d91c8b",
   "metadata": {},
   "outputs": [],
   "source": []
  }
 ],
 "metadata": {
  "kernelspec": {
   "display_name": "Python 3 (ipykernel)",
   "language": "python",
   "name": "python3"
  },
  "language_info": {
   "codemirror_mode": {
    "name": "ipython",
    "version": 3
   },
   "file_extension": ".py",
   "mimetype": "text/x-python",
   "name": "python",
   "nbconvert_exporter": "python",
   "pygments_lexer": "ipython3",
   "version": "3.9.12"
  }
 },
 "nbformat": 4,
 "nbformat_minor": 5
}
