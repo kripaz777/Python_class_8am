{
 "cells": [
  {
   "cell_type": "code",
   "execution_count": 1,
   "id": "c1dfa4cf",
   "metadata": {},
   "outputs": [],
   "source": [
    "# function\n",
    "# pre-defined\n",
    "# user-defined"
   ]
  },
  {
   "cell_type": "code",
   "execution_count": 2,
   "id": "fb25d8b2",
   "metadata": {},
   "outputs": [],
   "source": [
    "# # predefined function\n",
    "# print() int() float() str() list() tuple() dict() set() etc"
   ]
  },
  {
   "cell_type": "code",
   "execution_count": null,
   "id": "4e721a7d",
   "metadata": {},
   "outputs": [],
   "source": [
    "# def <function_name>():         #defining function\n",
    "#     <operations>\n",
    "    \n",
    "# <function_name>()              #calling function"
   ]
  },
  {
   "cell_type": "code",
   "execution_count": 3,
   "id": "fbc3908e",
   "metadata": {},
   "outputs": [
    {
     "name": "stdout",
     "output_type": "stream",
     "text": [
      "Hello World\n"
     ]
    }
   ],
   "source": [
    "def hello():\n",
    "    print(\"Hello World\")\n",
    "    \n",
    "hello()"
   ]
  },
  {
   "cell_type": "code",
   "execution_count": 6,
   "id": "6963d3e3",
   "metadata": {},
   "outputs": [
    {
     "name": "stdout",
     "output_type": "stream",
     "text": [
      "Enter l = 234\n",
      "Enter b = 456\n",
      "Enter h = 345\n",
      "36812880\n"
     ]
    },
    {
     "ename": "NameError",
     "evalue": "name 'l' is not defined",
     "output_type": "error",
     "traceback": [
      "\u001b[1;31m---------------------------------------------------------------------------\u001b[0m",
      "\u001b[1;31mNameError\u001b[0m                                 Traceback (most recent call last)",
      "Input \u001b[1;32mIn [6]\u001b[0m, in \u001b[0;36m<cell line: 9>\u001b[1;34m()\u001b[0m\n\u001b[0;32m      6\u001b[0m     \u001b[38;5;28mprint\u001b[39m(v)\n\u001b[0;32m      8\u001b[0m volume()\n\u001b[1;32m----> 9\u001b[0m \u001b[38;5;28mprint\u001b[39m(\u001b[43ml\u001b[49m,b,h)\n",
      "\u001b[1;31mNameError\u001b[0m: name 'l' is not defined"
     ]
    }
   ],
   "source": [
    "def volume():\n",
    "    l = int(input(\"Enter l = \"))    #local variable\n",
    "    b = int(input(\"Enter b = \"))    #local variable\n",
    "    h = int(input(\"Enter h = \"))    #local variable\n",
    "    v = l*b*h                       #local variable\n",
    "    print(v)\n",
    "    \n",
    "volume()\n",
    "print(l,b,h)"
   ]
  },
  {
   "cell_type": "code",
   "execution_count": 2,
   "id": "e9dcd6e2",
   "metadata": {},
   "outputs": [
    {
     "name": "stdout",
     "output_type": "stream",
     "text": [
      "Enter l = 23\n",
      "Enter b = 34\n",
      "Enter h = 32\n",
      "25024\n",
      "23 34 32\n"
     ]
    }
   ],
   "source": [
    "def volume():\n",
    "    global l,b,h,v\n",
    "    l = int(input(\"Enter l = \"))    #local variable\n",
    "    b = int(input(\"Enter b = \"))    #local variable\n",
    "    h = int(input(\"Enter h = \"))    #local variable\n",
    "    v = l*b*h                       #local variable\n",
    "    print(v)\n",
    "    \n",
    "volume()\n",
    "print(l,b,h)"
   ]
  },
  {
   "cell_type": "code",
   "execution_count": 7,
   "id": "9add9b4e",
   "metadata": {},
   "outputs": [
    {
     "name": "stdout",
     "output_type": "stream",
     "text": [
      "Enter l = 12312\n",
      "Enter b = 233\n",
      "Enter h = 23\n",
      "65980008\n",
      "12312 233 23\n"
     ]
    }
   ],
   "source": [
    "l = int(input(\"Enter l = \"))    #global variable\n",
    "b = int(input(\"Enter b = \"))    #global variable\n",
    "h = int(input(\"Enter h = \"))    #global variable\n",
    "\n",
    "def volume():\n",
    "    v = l*b*h                   #local variable\n",
    "    print(v)\n",
    "    \n",
    "volume()\n",
    "print(l,b,h)"
   ]
  },
  {
   "cell_type": "code",
   "execution_count": 3,
   "id": "6fe056a4",
   "metadata": {},
   "outputs": [],
   "source": [
    "# function without arguments and no return type\n",
    "# function with arguments and no return type\n",
    "# function without arguments and  return type\n",
    "# function with arguments and return type\n"
   ]
  },
  {
   "cell_type": "code",
   "execution_count": 4,
   "id": "6c046e5c",
   "metadata": {},
   "outputs": [
    {
     "name": "stdout",
     "output_type": "stream",
     "text": [
      "Hello World\n"
     ]
    }
   ],
   "source": [
    "# function with arguments and no return type\n",
    "\n",
    "def hello(x):                  # x is parameter\n",
    "    print(x)\n",
    "\n",
    "hello(\"Hello World\")           #\"Hello world\" is argument"
   ]
  },
  {
   "cell_type": "code",
   "execution_count": null,
   "id": "995632ba",
   "metadata": {},
   "outputs": [],
   "source": [
    "def volume(x,y,z):\n",
    "    v = x*y*z                   #local variable\n",
    "    print(v)\n",
    "    \n",
    "    \n",
    "l = int(input(\"Enter l = \"))\n",
    "b = int(input(\"Enter b = \"))\n",
    "h = int(input(\"Enter h = \"))\n",
    "volume(l,b,h)\n"
   ]
  },
  {
   "cell_type": "code",
   "execution_count": null,
   "id": "8aed94c0",
   "metadata": {},
   "outputs": [],
   "source": [
    "def area(x,y):\n",
    "    a = x*y\n",
    "    print(a)\n",
    "    \n",
    "def volume(x,y,z):\n",
    "    v = x*y*z\n",
    "    print(v)\n",
    "    \n",
    "l = int(input(\"Enter l = \"))\n",
    "b = int(input(\"Enter b = \"))\n",
    "h = int(input(\"Enter h = \"))\n",
    "\n",
    "area(l,b)\n",
    "volume(l,b,h)"
   ]
  },
  {
   "cell_type": "code",
   "execution_count": null,
   "id": "94d08ade",
   "metadata": {},
   "outputs": [],
   "source": [
    "def info(name,age,add):\n",
    "    print(f\"Hello world I am {name}. I am from {add}. I am {age}\")\n",
    "    \n",
    "name = input(\"Enter name = \")\n",
    "age = int(input(\"Enter age = \"))\n",
    "add = input(\"Enter add = \")\n",
    "\n",
    "info(name,age,add)"
   ]
  },
  {
   "cell_type": "code",
   "execution_count": null,
   "id": "d7648c2e",
   "metadata": {},
   "outputs": [],
   "source": [
    "def info(x):\n",
    "    name,age,add = x\n",
    "    print(f\"Hello world I am {name}. I am from {add}. I am {age}\")\n",
    "    \n",
    "name = input(\"Enter name = \")\n",
    "age = int(input(\"Enter age = \"))\n",
    "add = input(\"Enter add = \")\n",
    "l = [name,age,add]\n",
    "info(l)"
   ]
  },
  {
   "cell_type": "code",
   "execution_count": 5,
   "id": "18ab0799",
   "metadata": {},
   "outputs": [
    {
     "name": "stdout",
     "output_type": "stream",
     "text": [
      "I love C++\n",
      "I love C\n",
      "I love Java\n",
      "I love Python\n"
     ]
    }
   ],
   "source": [
    "def language(lan = \"Python\"):\n",
    "    print(f\"I love {lan}\")\n",
    "    \n",
    "language(\"C++\")\n",
    "language(\"C\")\n",
    "language(\"Java\")\n",
    "language()"
   ]
  },
  {
   "cell_type": "code",
   "execution_count": 6,
   "id": "eb64f34c",
   "metadata": {},
   "outputs": [],
   "source": [
    "# Retuen type function"
   ]
  },
  {
   "cell_type": "code",
   "execution_count": 10,
   "id": "9c6b9e6d",
   "metadata": {},
   "outputs": [
    {
     "name": "stdout",
     "output_type": "stream",
     "text": [
      "Hello World\n"
     ]
    }
   ],
   "source": [
    "def hello():\n",
    "    return \"Hello World\"\n",
    "\n",
    "print(hello())"
   ]
  },
  {
   "cell_type": "code",
   "execution_count": 9,
   "id": "bd2898ab",
   "metadata": {},
   "outputs": [
    {
     "name": "stdout",
     "output_type": "stream",
     "text": [
      "50\n"
     ]
    }
   ],
   "source": [
    "def area(l,b):\n",
    "    a = l*b\n",
    "    return a\n",
    "    \n",
    "x = area(10,5)\n",
    "print(x)"
   ]
  },
  {
   "cell_type": "code",
   "execution_count": 2,
   "id": "5563333f",
   "metadata": {},
   "outputs": [
    {
     "name": "stdout",
     "output_type": "stream",
     "text": [
      "Enter l = 234\n",
      "Enter b = 34\n",
      "Enter h = 54\n",
      "The area is =  7956\n",
      "The volume is =  429624\n"
     ]
    }
   ],
   "source": [
    "def area(l,b):\n",
    "    a = l*b\n",
    "    return a\n",
    "\n",
    "l = int(input(\"Enter l = \"))\n",
    "b = int(input(\"Enter b = \"))\n",
    "h = int(input(\"Enter h = \"))\n",
    "ar = area(l,b)\n",
    "print(\"The area is = \",ar)\n",
    "volume = ar * h\n",
    "print(\"The volume is = \", volume)"
   ]
  },
  {
   "cell_type": "code",
   "execution_count": 8,
   "id": "ff28e186",
   "metadata": {},
   "outputs": [
    {
     "name": "stdout",
     "output_type": "stream",
     "text": [
      "Enter l = 324\n",
      "Enter b = 32\n",
      "Enter h = 3\n"
     ]
    },
    {
     "data": {
      "text/plain": [
       "(10368, 31104)"
      ]
     },
     "execution_count": 8,
     "metadata": {},
     "output_type": "execute_result"
    }
   ],
   "source": [
    "def cal(l,b,h):\n",
    "    a = l*b\n",
    "    v= a*h\n",
    "    return a,v\n",
    "\n",
    "l = int(input(\"Enter l = \"))\n",
    "b = int(input(\"Enter b = \"))\n",
    "h = int(input(\"Enter h = \"))\n",
    "\n",
    "cal(l,b,h)"
   ]
  },
  {
   "cell_type": "code",
   "execution_count": 6,
   "id": "1cb672bd",
   "metadata": {},
   "outputs": [
    {
     "data": {
      "text/plain": [
       "(10, 11)"
      ]
     },
     "execution_count": 6,
     "metadata": {},
     "output_type": "execute_result"
    }
   ],
   "source": [
    "a = 10,11\n",
    "a"
   ]
  },
  {
   "cell_type": "code",
   "execution_count": null,
   "id": "1660e36b",
   "metadata": {},
   "outputs": [],
   "source": [
    "def add(a,b):\n",
    "    return a+b\n",
    "def sub(a,b):\n",
    "    return a-b\n",
    "def mul(a,b):\n",
    "    return a*b\n",
    "def div(a,b):\n",
    "    return a/b\n",
    "\n",
    "def cal(a,b,o):\n",
    "    if o == \"+\":\n",
    "        print(add(a,b))\n",
    "    elif o == \"-\":\n",
    "        print(sub(a,b))\n",
    "    elif o == \"*\":\n",
    "        print(mul(a,b))\n",
    "    elif o == \"/\":\n",
    "        print(div(a,b))\n",
    "    else:\n",
    "        print(\"Invalid operator\")\n",
    "\n",
    "a = int(input(\"Enter a = \"))\n",
    "b = int(input(\"Enter b = \"))\n",
    "o = input(\"Enter + or - or * or /   \")\n",
    "cal(a,b,o)"
   ]
  },
  {
   "cell_type": "code",
   "execution_count": 4,
   "id": "542985cc",
   "metadata": {},
   "outputs": [
    {
     "name": "stdout",
     "output_type": "stream",
     "text": [
      "Hello World\n",
      "Hello World\n"
     ]
    }
   ],
   "source": [
    "# Recursive function\n",
    "def hello():\n",
    "    print(\"Hello World\")\n",
    "    hello()\n",
    "    \n",
    "hello()"
   ]
  },
  {
   "cell_type": "code",
   "execution_count": 5,
   "id": "d96bf68b",
   "metadata": {},
   "outputs": [
    {
     "name": "stdout",
     "output_type": "stream",
     "text": [
      "Hello World\n",
      "Enter y for more print y\n",
      "Hello World\n",
      "Enter y for more print y\n",
      "Hello World\n",
      "Enter y for more print y\n",
      "Hello World\n",
      "Enter y for more print ads\n"
     ]
    }
   ],
   "source": [
    "def hello():\n",
    "    print(\"Hello World\")\n",
    "    x = input(\"Enter y for more print \")\n",
    "    if x =='y':\n",
    "        hello()\n",
    "    \n",
    "hello()"
   ]
  },
  {
   "cell_type": "code",
   "execution_count": 9,
   "id": "0ebf3db1",
   "metadata": {},
   "outputs": [],
   "source": [
    "# # lambda function\n",
    "\n",
    "# lambda <argument>:<expression or operation>"
   ]
  },
  {
   "cell_type": "code",
   "execution_count": 10,
   "id": "d813285f",
   "metadata": {},
   "outputs": [
    {
     "data": {
      "text/plain": [
       "9"
      ]
     },
     "execution_count": 10,
     "metadata": {},
     "output_type": "execute_result"
    }
   ],
   "source": [
    "y = lambda x:x**2\n",
    "y(3)"
   ]
  },
  {
   "cell_type": "code",
   "execution_count": 11,
   "id": "fcd3f90d",
   "metadata": {},
   "outputs": [
    {
     "data": {
      "text/plain": [
       "False"
      ]
     },
     "execution_count": 11,
     "metadata": {},
     "output_type": "execute_result"
    }
   ],
   "source": [
    "y = lambda x:(x%2==0)\n",
    "y(3)"
   ]
  },
  {
   "cell_type": "code",
   "execution_count": 13,
   "id": "ee13e06d",
   "metadata": {},
   "outputs": [
    {
     "name": "stdout",
     "output_type": "stream",
     "text": [
      "50\n"
     ]
    }
   ],
   "source": [
    "area = lambda l,b:l*b\n",
    "print(area(10,5))"
   ]
  },
  {
   "cell_type": "code",
   "execution_count": 14,
   "id": "cc8e9289",
   "metadata": {},
   "outputs": [],
   "source": [
    "# # filter\n",
    "# list(filter(lambda <argument>:<expression>,list))"
   ]
  },
  {
   "cell_type": "code",
   "execution_count": 16,
   "id": "efab8a6e",
   "metadata": {},
   "outputs": [
    {
     "data": {
      "text/plain": [
       "[32, 34, 6, 78, 54, 8, 2, 6]"
      ]
     },
     "execution_count": 16,
     "metadata": {},
     "output_type": "execute_result"
    }
   ],
   "source": [
    "l = [32,45,65,34,6,78,54,7,8,89,89,2,45,6]\n",
    "list(filter(lambda x:x%2==0,l))"
   ]
  },
  {
   "cell_type": "code",
   "execution_count": 17,
   "id": "c4e163fd",
   "metadata": {},
   "outputs": [
    {
     "data": {
      "text/plain": [
       "['CAT', 'DOG', 'GOAT']"
      ]
     },
     "execution_count": 17,
     "metadata": {},
     "output_type": "execute_result"
    }
   ],
   "source": [
    "l = [\"Apple\",\"CAT\",\"DOG\",\"fish\",\"GOAT\"]\n",
    "list(filter(lambda x:x.isupper(),l ))"
   ]
  },
  {
   "cell_type": "code",
   "execution_count": 19,
   "id": "71e70ac7",
   "metadata": {},
   "outputs": [
    {
     "data": {
      "text/plain": [
       "['fish', 'ant']"
      ]
     },
     "execution_count": 19,
     "metadata": {},
     "output_type": "execute_result"
    }
   ],
   "source": [
    "l = [\"Apple\",\"CAT\",\"DOG\",\"fish\",\"GOAT\",\"ant\"]\n",
    "list(filter(lambda x:x[0].islower(),l))"
   ]
  },
  {
   "cell_type": "code",
   "execution_count": 20,
   "id": "aa7a5c72",
   "metadata": {},
   "outputs": [],
   "source": [
    "# Map function\n",
    "# list(map(lambda <argument>:<expression>,list))"
   ]
  },
  {
   "cell_type": "code",
   "execution_count": 23,
   "id": "8b097cf5",
   "metadata": {},
   "outputs": [
    {
     "data": {
      "text/plain": [
       "[11000, 33000, 44000, 22000, 55000, 110000, 220000, 330000]"
      ]
     },
     "execution_count": 23,
     "metadata": {},
     "output_type": "execute_result"
    }
   ],
   "source": [
    "salary = [10000,30000,40000,20000,50000,100000,200000,300000]\n",
    "list(map(lambda x:int(x*1.1),salary))"
   ]
  },
  {
   "cell_type": "code",
   "execution_count": 25,
   "id": "adb4fdc0",
   "metadata": {},
   "outputs": [
    {
     "data": {
      "text/plain": [
       "['apple', 'cat', 'dog', 'fish', 'goat', 'ant']"
      ]
     },
     "execution_count": 25,
     "metadata": {},
     "output_type": "execute_result"
    }
   ],
   "source": [
    "l = [\"Apple\",\"CAT\",\"DOG\",\"fish\",\"GOAT\",\"ant\"]\n",
    "list(map(lambda x:x.lower(),l))"
   ]
  },
  {
   "cell_type": "code",
   "execution_count": null,
   "id": "9b230f03",
   "metadata": {},
   "outputs": [],
   "source": []
  },
  {
   "cell_type": "code",
   "execution_count": null,
   "id": "34ef562b",
   "metadata": {},
   "outputs": [],
   "source": []
  },
  {
   "cell_type": "code",
   "execution_count": null,
   "id": "af3e7a77",
   "metadata": {},
   "outputs": [],
   "source": []
  },
  {
   "cell_type": "code",
   "execution_count": null,
   "id": "8904a941",
   "metadata": {},
   "outputs": [],
   "source": []
  },
  {
   "cell_type": "code",
   "execution_count": null,
   "id": "9780e90f",
   "metadata": {},
   "outputs": [],
   "source": []
  }
 ],
 "metadata": {
  "kernelspec": {
   "display_name": "Python 3 (ipykernel)",
   "language": "python",
   "name": "python3"
  },
  "language_info": {
   "codemirror_mode": {
    "name": "ipython",
    "version": 3
   },
   "file_extension": ".py",
   "mimetype": "text/x-python",
   "name": "python",
   "nbconvert_exporter": "python",
   "pygments_lexer": "ipython3",
   "version": "3.9.12"
  }
 },
 "nbformat": 4,
 "nbformat_minor": 5
}
