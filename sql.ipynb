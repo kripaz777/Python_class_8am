{
 "cells": [
  {
   "cell_type": "code",
   "execution_count": 1,
   "id": "b8a74fb1",
   "metadata": {},
   "outputs": [
    {
     "name": "stdout",
     "output_type": "stream",
     "text": [
      "Requirement already satisfied: mysql-connector in c:\\users\\aayush\\anaconda3\\lib\\site-packages (2.2.9)\n"
     ]
    },
    {
     "name": "stderr",
     "output_type": "stream",
     "text": [
      "WARNING: Ignoring invalid distribution -illow (c:\\users\\aayush\\anaconda3\\lib\\site-packages)\n",
      "WARNING: Ignoring invalid distribution -illow (c:\\users\\aayush\\anaconda3\\lib\\site-packages)\n"
     ]
    }
   ],
   "source": [
    "!pip install mysql-connector"
   ]
  },
  {
   "cell_type": "code",
   "execution_count": null,
   "id": "d1eaa3cc",
   "metadata": {},
   "outputs": [],
   "source": [
    "import mysql.connector\n",
    "#importing database\n",
    "database = mysql.connector.connect(\n",
    "            host=\"localhost\",\n",
    "            user=\"root\",\n",
    "            password=\"\"\n",
    ")\n",
    "db = database.cursor()\n",
    "\n",
    "# db.execute(\"CREATE DATABASE pythons\")"
   ]
  },
  {
   "cell_type": "code",
   "execution_count": 2,
   "id": "371803c8",
   "metadata": {},
   "outputs": [],
   "source": [
    "import mysql.connector\n",
    "#importing database\n",
    "database = mysql.connector.connect(\n",
    "            host=\"localhost\",\n",
    "            user=\"root\",\n",
    "            password=\"\",\n",
    "            database = \"pythonclass8am\"\n",
    ")\n",
    "db = database.cursor()"
   ]
  },
  {
   "cell_type": "code",
   "execution_count": 5,
   "id": "0b3f2fe4",
   "metadata": {},
   "outputs": [
    {
     "name": "stdout",
     "output_type": "stream",
     "text": [
      "(1, 'Shyam', 78, 76, 90, 67, 89, 412, 82.5, 'A')\n",
      "(2, 'Ram', 78, 87, 67, 89, 87, 450, 85.5, 'A')\n",
      "(3, 'Sabin', 78, 89, 89, 45, 67, 400, 81.4, 'B')\n",
      "(4, 'Shyam', 78, 60, 65, 70, 78, 410, 81.4, 'A')\n",
      "(5, 'Shyama', 78, 60, 75, 70, 78, 410, 81.4, 'A')\n"
     ]
    }
   ],
   "source": [
    "#Select in database\n",
    "db.execute(\"SELECT * FROM student\")\n",
    "result =db.fetchall()\n",
    "for x in result:\n",
    "    print(x)"
   ]
  },
  {
   "cell_type": "code",
   "execution_count": 7,
   "id": "4b4135e9",
   "metadata": {},
   "outputs": [
    {
     "name": "stdout",
     "output_type": "stream",
     "text": [
      "(1, 'Shyam', 78, 76, 90, 67, 89, 412, 82.5, 'A')\n",
      "(2, 'Ram', 78, 87, 67, 89, 87, 450, 85.5, 'A')\n",
      "(4, 'Shyam', 78, 60, 65, 70, 78, 410, 81.4, 'A')\n",
      "(5, 'Shyama', 78, 60, 75, 70, 78, 410, 81.4, 'A')\n"
     ]
    }
   ],
   "source": [
    "#Select in database\n",
    "# db.execute(\"SELECT sn,name,grade FROM student\")\n",
    "db.execute(\"SELECT * FROM student WHERE grade = 'A' \")\n",
    "result =db.fetchall()\n",
    "for x in result:\n",
    "    print(x)"
   ]
  },
  {
   "cell_type": "code",
   "execution_count": 8,
   "id": "da00b379",
   "metadata": {},
   "outputs": [],
   "source": [
    "# Insert in database\n",
    "sql = '''INSERT INTO `student` (`sn`, `name`, `physics`, `chemistry`, `math`, `english`, `nepali`,\n",
    "`total`, `per`, `grade`) \n",
    "VALUES ('8', 'Rama', '89', '78', '89', '67', '86', '400', '80', 'A')'''\n",
    "db.execute(sql)\n",
    "database.commit()"
   ]
  },
  {
   "cell_type": "code",
   "execution_count": 1,
   "id": "dc6fdac8",
   "metadata": {},
   "outputs": [],
   "source": [
    "# WAP to entry all data in student table taking value as input from user.\n",
    "import mysql.connector\n",
    "#importing database\n",
    "database = mysql.connector.connect(\n",
    "            host=\"localhost\",\n",
    "            user=\"root\",\n",
    "            password=\"\",\n",
    "            database = \"pythonclass8am\"\n",
    ")\n",
    "db = database.cursor()"
   ]
  },
  {
   "cell_type": "code",
   "execution_count": 2,
   "id": "1bd9b2bf",
   "metadata": {},
   "outputs": [
    {
     "name": "stdout",
     "output_type": "stream",
     "text": [
      "Enter name = Sagar\n",
      "Enter physics marks= 89\n",
      "Enter chemistry marks= 87\n",
      "Enter math marks= 67\n",
      "Enter english marks= 89\n",
      "Enter nepali marks= 76\n"
     ]
    }
   ],
   "source": [
    "name = input(\"Enter name = \")\n",
    "physics = int(input(\"Enter physics marks= \"))\n",
    "chemistry = int(input(\"Enter chemistry marks= \"))\n",
    "math = int(input(\"Enter math marks= \"))\n",
    "english = int(input(\"Enter english marks= \"))\n",
    "nepali = int(input(\"Enter nepali marks= \"))\n",
    "if physics>=32 and chemistry>=32 and math>=32 and english>=32 and nepali>=32:\n",
    "    total = physics + chemistry + math + english + nepali\n",
    "    per = total/5\n",
    "    if per > 80:\n",
    "        grade = \"A\"\n",
    "    elif per >= 60:\n",
    "        grade = \"B\"\n",
    "    elif per >= 45:\n",
    "        grade = \"C\"\n",
    "    elif per >= 32:\n",
    "        grade = \"D\"\n",
    "    else:\n",
    "        grade = \"F\"\n",
    "\n",
    "    sql = f'''INSERT INTO student(name,physics,chemistry,math,english,nepali,total,per,grade) \n",
    "    VALUES ('{name}',{physics},{chemistry},{math},{english},{nepali},{total},{per},'{grade}')'''\n",
    "    db.execute(sql)\n",
    "    database.commit()\n",
    "\n",
    "else:\n",
    "    print(\"You are Failed\")"
   ]
  },
  {
   "cell_type": "code",
   "execution_count": 5,
   "id": "e83665cc",
   "metadata": {},
   "outputs": [],
   "source": [
    "sql = \"UPDATE student SET grade = 'A+' WHERE name = 'Sagar'\"\n",
    "db.execute(sql)\n",
    "database.commit()\n"
   ]
  },
  {
   "cell_type": "code",
   "execution_count": 6,
   "id": "066b0dc9",
   "metadata": {},
   "outputs": [
    {
     "name": "stdout",
     "output_type": "stream",
     "text": [
      "Enter name = ram\n",
      "Enter grade = A+\n"
     ]
    }
   ],
   "source": [
    "name = input(\"Enter name = \")\n",
    "grade = input(\"Enter grade = \")\n",
    "\n",
    "\n",
    "sql = f\"UPDATE student SET grade = '{grade}' WHERE name = '{name}'\"\n",
    "db.execute(sql)\n",
    "database.commit()"
   ]
  },
  {
   "cell_type": "code",
   "execution_count": 7,
   "id": "38672c80",
   "metadata": {},
   "outputs": [
    {
     "name": "stdout",
     "output_type": "stream",
     "text": [
      "Enter name = ram\n",
      "Enter grade = B\n"
     ]
    }
   ],
   "source": [
    "grade = input(\"Enter grade = \")\n",
    "\n",
    "\n",
    "sql = f\"DELETE FROM student WHERE grade = '{grade}'\"\n",
    "db.execute(sql)\n",
    "database.commit()"
   ]
  },
  {
   "cell_type": "code",
   "execution_count": 8,
   "id": "21ef486e",
   "metadata": {},
   "outputs": [
    {
     "name": "stdout",
     "output_type": "stream",
     "text": [
      "Enter grade = B\n",
      "Enter physics marks78\n"
     ]
    }
   ],
   "source": [
    "grade = input(\"Enter grade = \")\n",
    "physics = input(\"Enter physics marks\")\n",
    "\n",
    "sql = f\"DELETE FROM student WHERE grade = '{grade}' and physics={physics}\"\n",
    "db.execute(sql)\n",
    "database.commit()"
   ]
  },
  {
   "cell_type": "code",
   "execution_count": null,
   "id": "82041ecf",
   "metadata": {},
   "outputs": [],
   "source": []
  }
 ],
 "metadata": {
  "kernelspec": {
   "display_name": "Python 3 (ipykernel)",
   "language": "python",
   "name": "python3"
  },
  "language_info": {
   "codemirror_mode": {
    "name": "ipython",
    "version": 3
   },
   "file_extension": ".py",
   "mimetype": "text/x-python",
   "name": "python",
   "nbconvert_exporter": "python",
   "pygments_lexer": "ipython3",
   "version": "3.9.12"
  }
 },
 "nbformat": 4,
 "nbformat_minor": 5
}
