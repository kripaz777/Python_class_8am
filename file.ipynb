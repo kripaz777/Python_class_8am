{
 "cells": [
  {
   "cell_type": "code",
   "execution_count": 1,
   "id": "9a21231c",
   "metadata": {},
   "outputs": [],
   "source": [
    "# file\n",
    "\n",
    "# file = open('<file_name>','<modes>')\n",
    "# file.close()\n",
    "\n",
    "# with open('<file_name>','<modes>') as file:\n",
    "#     <operations>\n",
    "    \n",
    "    \n",
    "# Mode\n",
    "# create ->x\n",
    "# read -> r\n",
    "# write ->w\n",
    "# append ->a"
   ]
  },
  {
   "cell_type": "code",
   "execution_count": 5,
   "id": "42687b4b",
   "metadata": {},
   "outputs": [
    {
     "name": "stdout",
     "output_type": "stream",
     "text": [
      "The file is already there.\n"
     ]
    }
   ],
   "source": [
    "try:\n",
    "    file = open('data.txt' , 'x')\n",
    "    file.close()\n",
    "except:\n",
    "    print(\"The file is already there.\")"
   ]
  },
  {
   "cell_type": "code",
   "execution_count": 7,
   "id": "6c29eb42",
   "metadata": {},
   "outputs": [
    {
     "name": "stdout",
     "output_type": "stream",
     "text": [
      "1.Hello World\n",
      "2.Hello World\n",
      "3.Hello World\n",
      "4.Hello World\n",
      "5.Hello World\n",
      "6.Hello World\n",
      "7.Hello World\n"
     ]
    }
   ],
   "source": [
    "file = open('data.txt','r')\n",
    "x = file.read()\n",
    "print(x)\n",
    "file.close()"
   ]
  },
  {
   "cell_type": "code",
   "execution_count": 10,
   "id": "4ce36d9a",
   "metadata": {},
   "outputs": [
    {
     "data": {
      "text/plain": [
       "['1.Hello World',\n",
       " '2.Hello World',\n",
       " '3.Hello World',\n",
       " '4.Hello World',\n",
       " '5.Hello World',\n",
       " '6.Hello World',\n",
       " '7.Hello World']"
      ]
     },
     "execution_count": 10,
     "metadata": {},
     "output_type": "execute_result"
    }
   ],
   "source": [
    "y= x.split('\\n')\n",
    "y"
   ]
  },
  {
   "cell_type": "code",
   "execution_count": 14,
   "id": "e249b99b",
   "metadata": {},
   "outputs": [
    {
     "name": "stdout",
     "output_type": "stream",
     "text": [
      "Enter i = 1\n"
     ]
    },
    {
     "data": {
      "text/plain": [
       "'1.Hello World'"
      ]
     },
     "execution_count": 14,
     "metadata": {},
     "output_type": "execute_result"
    }
   ],
   "source": [
    "i = int(input(\"Enter i = \"))\n",
    "y[i-1]"
   ]
  },
  {
   "cell_type": "code",
   "execution_count": 15,
   "id": "4a83e890",
   "metadata": {},
   "outputs": [],
   "source": [
    "file = open('data1.txt','w')\n",
    "file.write('Hello World')\n",
    "file.close()"
   ]
  },
  {
   "cell_type": "code",
   "execution_count": 17,
   "id": "9f006b98",
   "metadata": {},
   "outputs": [
    {
     "name": "stdout",
     "output_type": "stream",
     "text": [
      "Enter n = 2\n",
      "Enter name = Apple\n",
      "Enter price = 300\n",
      "Enter qty = 2\n",
      "Enter name = Bnana\n",
      "Enter price = 300\n",
      "Enter qty = 4\n",
      "Apple 300 2 600\n",
      "Bnana 300 4 1200\n",
      "\n"
     ]
    }
   ],
   "source": [
    "# WAP to create a billing system (product,price,qty,total,all_total)\n",
    "bill = \"\"\n",
    "n = int(input(\"Enter n = \"))\n",
    "for i in range(n):\n",
    "    name = input(\"Enter name = \")\n",
    "    price = int(input(\"Enter price = \"))\n",
    "    qty = int(input(\"Enter qty = \"))\n",
    "    total = price * qty\n",
    "    data = f\"{name} {price} {qty} {total}\\n\"\n",
    "    bill = bill + data\n",
    "    \n",
    "print(bill)\n",
    "\n",
    "file = open('data1.txt','w')\n",
    "file.write(bill)\n",
    "file.close() "
   ]
  },
  {
   "cell_type": "code",
   "execution_count": 18,
   "id": "f5797951",
   "metadata": {},
   "outputs": [
    {
     "name": "stdout",
     "output_type": "stream",
     "text": [
      "Enter n = 1\n",
      "Enter name = Kitkat\n",
      "Enter price = 100\n",
      "Enter qty = 3\n",
      "Kitkat 100 3 300\n",
      "\n"
     ]
    }
   ],
   "source": [
    "# WAP to create a billing system (product,price,qty,total,all_total)\n",
    "bill = \"\"\n",
    "n = int(input(\"Enter n = \"))\n",
    "for i in range(n):\n",
    "    name = input(\"Enter name = \")\n",
    "    price = int(input(\"Enter price = \"))\n",
    "    qty = int(input(\"Enter qty = \"))\n",
    "    total = price * qty\n",
    "    data = f\"{name} {price} {qty} {total}\\n\"\n",
    "    bill = bill + data\n",
    "    \n",
    "print(bill)\n",
    "\n",
    "file = open('data1.txt','a')\n",
    "file.write(bill)\n",
    "file.close()"
   ]
  },
  {
   "cell_type": "code",
   "execution_count": 20,
   "id": "504bf152",
   "metadata": {},
   "outputs": [
    {
     "name": "stdout",
     "output_type": "stream",
     "text": [
      "Apple 300 2 600\n",
      "Bnana 300 4 1200\n",
      "Kitkat 100 3 300\n",
      "\n"
     ]
    }
   ],
   "source": [
    "file = open('data1.txt','r')\n",
    "x = file.read()\n",
    "print(x)\n",
    "file.close() "
   ]
  },
  {
   "cell_type": "code",
   "execution_count": 25,
   "id": "f079173d",
   "metadata": {},
   "outputs": [
    {
     "data": {
      "text/plain": [
       "['Apple 300 2 600', 'Bnana 300 4 1200', 'Kitkat 100 3 300']"
      ]
     },
     "execution_count": 25,
     "metadata": {},
     "output_type": "execute_result"
    }
   ],
   "source": [
    "y = x.split('\\n')[0:-1]\n",
    "y"
   ]
  },
  {
   "cell_type": "code",
   "execution_count": 29,
   "id": "6f25453b",
   "metadata": {},
   "outputs": [
    {
     "data": {
      "text/plain": [
       "[['Apple', '300', '2', '600'],\n",
       " ['Bnana', '300', '4', '1200'],\n",
       " ['Kitkat', '100', '3', '300']]"
      ]
     },
     "execution_count": 29,
     "metadata": {},
     "output_type": "execute_result"
    }
   ],
   "source": [
    "bill = []\n",
    "for i in y:\n",
    "    bill.append(i.split())\n",
    "    \n",
    "bill"
   ]
  },
  {
   "cell_type": "code",
   "execution_count": 33,
   "id": "cfa78a44",
   "metadata": {},
   "outputs": [
    {
     "data": {
      "text/plain": [
       "2100"
      ]
     },
     "execution_count": 33,
     "metadata": {},
     "output_type": "execute_result"
    }
   ],
   "source": [
    "s = 0\n",
    "for i in bill:\n",
    "    s = s+ int(i[-1])\n",
    "    \n",
    "    \n",
    "s"
   ]
  },
  {
   "cell_type": "code",
   "execution_count": 36,
   "id": "ad38ce3f",
   "metadata": {},
   "outputs": [
    {
     "name": "stdout",
     "output_type": "stream",
     "text": [
      "Enter n = 2\n",
      "Enter name = Apple\n",
      "Enter price = 100\n",
      "Enter qty = 2\n",
      "Enter name = banana\n",
      "Enter price = 300\n",
      "Enter qty = 3\n",
      "Apple,100,2,200\n",
      "banana,300,3,900\n",
      "\n"
     ]
    }
   ],
   "source": [
    "# WAP to create a billing system (product,price,qty,total,all_total)\n",
    "bill = \"\"\n",
    "n = int(input(\"Enter n = \"))\n",
    "for i in range(n):\n",
    "    name = input(\"Enter name = \")\n",
    "    price = int(input(\"Enter price = \"))\n",
    "    qty = int(input(\"Enter qty = \"))\n",
    "    total = price * qty\n",
    "    data = f\"{name},{price},{qty},{total}\\n\"\n",
    "    bill = bill + data\n",
    "    \n",
    "print(bill)\n",
    "\n",
    "file = open('data1.csv','w')\n",
    "file.write('Name,Price,Quantity,Total\\n')\n",
    "file.write(bill)\n",
    "file.close()"
   ]
  },
  {
   "cell_type": "code",
   "execution_count": 37,
   "id": "0250ce12",
   "metadata": {},
   "outputs": [
    {
     "data": {
      "text/html": [
       "<div>\n",
       "<style scoped>\n",
       "    .dataframe tbody tr th:only-of-type {\n",
       "        vertical-align: middle;\n",
       "    }\n",
       "\n",
       "    .dataframe tbody tr th {\n",
       "        vertical-align: top;\n",
       "    }\n",
       "\n",
       "    .dataframe thead th {\n",
       "        text-align: right;\n",
       "    }\n",
       "</style>\n",
       "<table border=\"1\" class=\"dataframe\">\n",
       "  <thead>\n",
       "    <tr style=\"text-align: right;\">\n",
       "      <th></th>\n",
       "      <th>Name</th>\n",
       "      <th>Price</th>\n",
       "      <th>Quantity</th>\n",
       "      <th>Total</th>\n",
       "    </tr>\n",
       "  </thead>\n",
       "  <tbody>\n",
       "    <tr>\n",
       "      <th>0</th>\n",
       "      <td>Apple</td>\n",
       "      <td>100</td>\n",
       "      <td>2</td>\n",
       "      <td>200</td>\n",
       "    </tr>\n",
       "    <tr>\n",
       "      <th>1</th>\n",
       "      <td>banana</td>\n",
       "      <td>300</td>\n",
       "      <td>3</td>\n",
       "      <td>900</td>\n",
       "    </tr>\n",
       "  </tbody>\n",
       "</table>\n",
       "</div>"
      ],
      "text/plain": [
       "     Name  Price  Quantity  Total\n",
       "0   Apple    100         2    200\n",
       "1  banana    300         3    900"
      ]
     },
     "execution_count": 37,
     "metadata": {},
     "output_type": "execute_result"
    }
   ],
   "source": [
    "import pandas as pd\n",
    "df = pd.read_csv('data1.csv')\n",
    "df"
   ]
  },
  {
   "cell_type": "code",
   "execution_count": 35,
   "id": "a8f277d2",
   "metadata": {},
   "outputs": [
    {
     "data": {
      "text/plain": [
       "'C:\\\\Users\\\\Aayush\\\\Python_class_8am'"
      ]
     },
     "execution_count": 35,
     "metadata": {},
     "output_type": "execute_result"
    }
   ],
   "source": [
    "pwd"
   ]
  },
  {
   "cell_type": "code",
   "execution_count": null,
   "id": "c9f17cf4",
   "metadata": {},
   "outputs": [],
   "source": []
  }
 ],
 "metadata": {
  "kernelspec": {
   "display_name": "Python 3 (ipykernel)",
   "language": "python",
   "name": "python3"
  },
  "language_info": {
   "codemirror_mode": {
    "name": "ipython",
    "version": 3
   },
   "file_extension": ".py",
   "mimetype": "text/x-python",
   "name": "python",
   "nbconvert_exporter": "python",
   "pygments_lexer": "ipython3",
   "version": "3.9.12"
  }
 },
 "nbformat": 4,
 "nbformat_minor": 5
}
