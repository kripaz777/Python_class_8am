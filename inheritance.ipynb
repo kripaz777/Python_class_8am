{
 "cells": [
  {
   "cell_type": "code",
   "execution_count": 1,
   "id": "c17adc87",
   "metadata": {},
   "outputs": [],
   "source": [
    "class A:\n",
    "    pass\n",
    "class B(A):\n",
    "    pass\n",
    "\n",
    "obj = B()"
   ]
  },
  {
   "cell_type": "code",
   "execution_count": 2,
   "id": "e68a865d",
   "metadata": {},
   "outputs": [
    {
     "name": "stdout",
     "output_type": "stream",
     "text": [
      "Enter name = Ram\n",
      "Enter address = Kathmandu\n",
      "Ram Kathmandu\n",
      "Hello world I am Ram. I am from Kathmandu\n"
     ]
    }
   ],
   "source": [
    "class Data:\n",
    "    def __init__(self):\n",
    "        self.name = input(\"Enter name = \")\n",
    "        self.add = input(\"Enter address = \")\n",
    "    def data(self):\n",
    "        print(self.name,self.add)\n",
    "        \n",
    "class Info(Data):\n",
    "    def info(self):\n",
    "        print(f\"Hello world I am {self.name}. I am from {self.add}\")\n",
    "        \n",
    "obj = Info()\n",
    "obj.data()\n",
    "obj.info()"
   ]
  },
  {
   "cell_type": "code",
   "execution_count": 3,
   "id": "48d71858",
   "metadata": {},
   "outputs": [
    {
     "name": "stdout",
     "output_type": "stream",
     "text": [
      "Enter name = Ram\n",
      "Enter address = Kathmandu\n",
      "Ram Kathmandu\n",
      "Hello world I am Ram. I am from Kathmandu\n"
     ]
    }
   ],
   "source": [
    "class Data:\n",
    "    def __init__(self,name,add):\n",
    "        self.name = name\n",
    "        self.add = add\n",
    "        \n",
    "    def data(self):\n",
    "        print(self.name,self.add)\n",
    "        \n",
    "class Info(Data):\n",
    "    def info(self):\n",
    "        print(f\"Hello world I am {self.name}. I am from {self.add}\")\n",
    "\n",
    "name = input(\"Enter name = \")\n",
    "add = input(\"Enter address = \")\n",
    "obj = Info(name,add)\n",
    "\n",
    "obj.data()\n",
    "obj.info()"
   ]
  },
  {
   "cell_type": "code",
   "execution_count": 4,
   "id": "4e539bef",
   "metadata": {},
   "outputs": [
    {
     "name": "stdout",
     "output_type": "stream",
     "text": [
      "Enter name = Ram\n",
      "Enter address = Kathmandu\n",
      "Ram Kathmandu\n",
      "Hello world I am Ram. I am from Kathmandu\n"
     ]
    }
   ],
   "source": [
    "class Data:\n",
    "    def __init__(self,add):\n",
    "        self.add = add\n",
    "        \n",
    "    def data(self):\n",
    "        print(self.name,self.add)\n",
    "        \n",
    "class Info(Data):\n",
    "    def __init__(self,name,add):\n",
    "        self.name = name\n",
    "        Data.__init__(self,add)\n",
    "        \n",
    "    def info(self):\n",
    "        print(f\"Hello world I am {self.name}. I am from {self.add}\")\n",
    "\n",
    "name = input(\"Enter name = \")\n",
    "add = input(\"Enter address = \")\n",
    "obj = Info(name,add)\n",
    "\n",
    "obj.data()\n",
    "obj.info()"
   ]
  },
  {
   "cell_type": "code",
   "execution_count": 12,
   "id": "13d80689",
   "metadata": {},
   "outputs": [
    {
     "name": "stdout",
     "output_type": "stream",
     "text": [
      "Enter name = Ram\n",
      "Enter address = Kathmandu\n",
      "Ram Kathmandu\n"
     ]
    }
   ],
   "source": [
    "class Data:\n",
    "    def __init__(self):\n",
    "        self.name = input(\"Enter name = \")\n",
    "        self.add = input(\"Enter address = \")\n",
    "\n",
    "        \n",
    "obj = Data()\n",
    "print(obj.name,obj.add)"
   ]
  },
  {
   "cell_type": "code",
   "execution_count": 6,
   "id": "97b4b186",
   "metadata": {},
   "outputs": [],
   "source": [
    "# multilevel inheritance\n",
    "class A:\n",
    "    pass\n",
    "class B(A):\n",
    "    pass\n",
    "class C(B):\n",
    "    pass\n",
    "\n",
    "obj = C()"
   ]
  },
  {
   "cell_type": "code",
   "execution_count": null,
   "id": "8019df98",
   "metadata": {},
   "outputs": [],
   "source": [
    "# multiple inheritane\n",
    "class A:\n",
    "    pass\n",
    "class B:\n",
    "    pass\n",
    "\n",
    "class C(A,B):\n",
    "    pass\n",
    "\n",
    "obj = C()"
   ]
  },
  {
   "cell_type": "code",
   "execution_count": 8,
   "id": "3650052f",
   "metadata": {},
   "outputs": [
    {
     "name": "stdout",
     "output_type": "stream",
     "text": [
      "Enter name = Ram\n",
      "Enter address = 89\n",
      "Enter age = Kathmandu\n",
      "Ram 89\n",
      "Hello world I am Ram. I am from 89. I am Kathmandu\n"
     ]
    }
   ],
   "source": [
    "# multilevel\n",
    "class Age:\n",
    "    def __init__(self,age):\n",
    "        self.age = age\n",
    "        \n",
    "class Data(Age):\n",
    "    def __init__(self,age,add):\n",
    "        self.add = add\n",
    "        Age.__init__(self,age)\n",
    "    def data(self):\n",
    "        print(self.name,self.add)\n",
    "        \n",
    "class Info(Data):\n",
    "    def __init__(self,name,age,add):\n",
    "        self.name = name\n",
    "        Data.__init__(self,age,add)\n",
    "        \n",
    "    def info(self):\n",
    "        print(f\"Hello world I am {self.name}. I am from {self.add}. I am {self.age}\")\n",
    "\n",
    "name = input(\"Enter name = \")\n",
    "add = input(\"Enter address = \")\n",
    "age = input(\"Enter age = \")\n",
    "obj = Info(name,age,add)\n",
    "\n",
    "obj.data()\n",
    "obj.info()"
   ]
  },
  {
   "cell_type": "code",
   "execution_count": null,
   "id": "fa0ebf2f",
   "metadata": {},
   "outputs": [],
   "source": [
    "# multilevel\n",
    "class Age:\n",
    "    def __init__(self,age):\n",
    "        self.age = age\n",
    "    def age(self):\n",
    "        print(self.age)\n",
    "class Address:\n",
    "    def __init__(self,add):\n",
    "        self.add = add\n",
    "    def data(self):\n",
    "        print(self.name,self.add)\n",
    "        \n",
    "class Info(Age,Address):\n",
    "    def __init__(self,name,age,add):\n",
    "        self.name = name\n",
    "        Address.__init__(self,add)\n",
    "        Age.__init__(self,age)\n",
    "\n",
    "        \n",
    "    def info(self):\n",
    "        print(f\"Hello world I am {self.name}. I am from {self.add}. I am {self.age}\")\n",
    "\n",
    "name = input(\"Enter name = \")\n",
    "add = input(\"Enter address = \")\n",
    "age = input(\"Enter age = \")\n",
    "obj = Info(name,age,add)\n",
    "\n",
    "obj.data()\n",
    "obj.info()"
   ]
  },
  {
   "cell_type": "code",
   "execution_count": 1,
   "id": "a00bc45d",
   "metadata": {},
   "outputs": [
    {
     "name": "stdout",
     "output_type": "stream",
     "text": [
      "Enter name = Ram\n",
      "Enter age = 34\n",
      "Ram 34\n"
     ]
    }
   ],
   "source": [
    "# Private protected public\n",
    "\n",
    "# Public members\n",
    "class Info:\n",
    "    def __init__(self):\n",
    "        self.name = input(\"Enter name = \")\n",
    "        self.age = int(input(\"Enter age = \"))\n",
    "        \n",
    "obj = Info()\n",
    "print(obj.name,obj.age)"
   ]
  },
  {
   "cell_type": "code",
   "execution_count": 3,
   "id": "edc6c7a2",
   "metadata": {},
   "outputs": [
    {
     "name": "stdout",
     "output_type": "stream",
     "text": [
      "Enter name = Ram\n",
      "Enter age = 34\n",
      "Ram 34\n"
     ]
    }
   ],
   "source": [
    "#protected\n",
    "class Info:\n",
    "    def __init__(self):\n",
    "        self._name = input(\"Enter name = \")\n",
    "        self._age = int(input(\"Enter age = \"))\n",
    "        \n",
    "obj = Info()\n",
    "print(obj._name,obj._age)"
   ]
  },
  {
   "cell_type": "code",
   "execution_count": 4,
   "id": "5b96b94f",
   "metadata": {},
   "outputs": [
    {
     "name": "stdout",
     "output_type": "stream",
     "text": [
      "Enter name = Ram\n",
      "Enter age = 89\n"
     ]
    },
    {
     "ename": "AttributeError",
     "evalue": "'Info' object has no attribute '__name'",
     "output_type": "error",
     "traceback": [
      "\u001b[1;31m---------------------------------------------------------------------------\u001b[0m",
      "\u001b[1;31mAttributeError\u001b[0m                            Traceback (most recent call last)",
      "Input \u001b[1;32mIn [4]\u001b[0m, in \u001b[0;36m<cell line: 8>\u001b[1;34m()\u001b[0m\n\u001b[0;32m      5\u001b[0m         \u001b[38;5;28mself\u001b[39m\u001b[38;5;241m.\u001b[39m__age \u001b[38;5;241m=\u001b[39m \u001b[38;5;28mint\u001b[39m(\u001b[38;5;28minput\u001b[39m(\u001b[38;5;124m\"\u001b[39m\u001b[38;5;124mEnter age = \u001b[39m\u001b[38;5;124m\"\u001b[39m))\n\u001b[0;32m      7\u001b[0m obj \u001b[38;5;241m=\u001b[39m Info()\n\u001b[1;32m----> 8\u001b[0m \u001b[38;5;28mprint\u001b[39m(\u001b[43mobj\u001b[49m\u001b[38;5;241;43m.\u001b[39;49m\u001b[43m__name\u001b[49m,obj\u001b[38;5;241m.\u001b[39m__age)\n",
      "\u001b[1;31mAttributeError\u001b[0m: 'Info' object has no attribute '__name'"
     ]
    }
   ],
   "source": [
    "# private\n",
    "class Info:\n",
    "    def __init__(self):\n",
    "        self.__name = input(\"Enter name = \")\n",
    "        self.__age = int(input(\"Enter age = \"))\n",
    "        \n",
    "obj = Info()\n",
    "print(obj.__name,obj.__age)"
   ]
  },
  {
   "cell_type": "code",
   "execution_count": 7,
   "id": "389092d1",
   "metadata": {},
   "outputs": [
    {
     "name": "stdout",
     "output_type": "stream",
     "text": [
      "Enter name = Ram\n",
      "Enter age = 90\n",
      "Ram\n",
      "90\n"
     ]
    }
   ],
   "source": [
    "# private\n",
    "class Info:\n",
    "    def __init__(self):\n",
    "        self.__name = input(\"Enter name = \")\n",
    "        self.__age = int(input(\"Enter age = \"))\n",
    "        \n",
    "obj = Info()\n",
    "print(obj._Info__name)\n",
    "print(obj._Info__age)"
   ]
  },
  {
   "cell_type": "code",
   "execution_count": 6,
   "id": "2765471b",
   "metadata": {},
   "outputs": [
    {
     "name": "stdout",
     "output_type": "stream",
     "text": [
      "Enter name = ram\n",
      "Enter age = 89\n",
      "Enter address = Kathmandu\n",
      "ram Kathmandu 89\n",
      "Hello world I am ram. I am from Kathmandu\n"
     ]
    }
   ],
   "source": [
    "class Data:\n",
    "    def __init__(self,name,age,add):\n",
    "        self.name = name\n",
    "        self._add = add\n",
    "        self.__age = age\n",
    "        \n",
    "    def data(self):\n",
    "        print(self.name,self._add,self.__age)\n",
    "        \n",
    "class Info(Data):\n",
    "    def info(self):\n",
    "        print(f\"Hello world I am {self.name}. I am from {self._add}. I am {self._Data__age}\")\n",
    "\n",
    "name = input(\"Enter name = \")\n",
    "age = int(input(\"Enter age = \"))\n",
    "add = input(\"Enter address = \")\n",
    "obj = Info(name,age,add)\n",
    "\n",
    "obj.data()\n",
    "obj.info()"
   ]
  },
  {
   "cell_type": "code",
   "execution_count": 8,
   "id": "4a42f086",
   "metadata": {},
   "outputs": [
    {
     "name": "stdout",
     "output_type": "stream",
     "text": [
      "Enter name = Ram\n",
      "Enter age = 89\n",
      "Enter address = Kathmandu\n",
      "Ram Kathmandu 89\n",
      "Hello world I am Ram. I am from Kathmandu. I am 89\n"
     ]
    }
   ],
   "source": [
    "class Data:\n",
    "    def __init__(self,name,age,add):\n",
    "        self.name = name\n",
    "        self._add = add\n",
    "        self.__age = age\n",
    "        \n",
    "    def data(self):\n",
    "        print(self.name,self._add,self.__age)\n",
    "    def my_age(self):\n",
    "        return self.__age\n",
    "        \n",
    "class Info(Data):\n",
    "    def info(self):\n",
    "        print(f\"Hello world I am {self.name}. I am from {self._add}. I am {super().my_age()}\")\n",
    "#         print(f\"Hello world I am {self.name}. I am from {self._add}. I am {Data.my_age(self)}\")\n",
    "\n",
    "\n",
    "name = input(\"Enter name = \")\n",
    "age = int(input(\"Enter age = \"))\n",
    "add = input(\"Enter address = \")\n",
    "obj = Info(name,age,add)\n",
    "\n",
    "obj.data()\n",
    "obj.info()"
   ]
  },
  {
   "cell_type": "code",
   "execution_count": null,
   "id": "8c7a3670",
   "metadata": {},
   "outputs": [],
   "source": []
  },
  {
   "cell_type": "code",
   "execution_count": null,
   "id": "57389e8e",
   "metadata": {},
   "outputs": [],
   "source": []
  },
  {
   "cell_type": "code",
   "execution_count": null,
   "id": "5abfea77",
   "metadata": {},
   "outputs": [],
   "source": []
  },
  {
   "cell_type": "code",
   "execution_count": null,
   "id": "8260bb11",
   "metadata": {},
   "outputs": [],
   "source": []
  }
 ],
 "metadata": {
  "kernelspec": {
   "display_name": "Python 3 (ipykernel)",
   "language": "python",
   "name": "python3"
  },
  "language_info": {
   "codemirror_mode": {
    "name": "ipython",
    "version": 3
   },
   "file_extension": ".py",
   "mimetype": "text/x-python",
   "name": "python",
   "nbconvert_exporter": "python",
   "pygments_lexer": "ipython3",
   "version": "3.9.12"
  }
 },
 "nbformat": 4,
 "nbformat_minor": 5
}
