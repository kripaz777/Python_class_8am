{
 "cells": [
  {
   "cell_type": "code",
   "execution_count": 1,
   "id": "a91ee20f",
   "metadata": {},
   "outputs": [
    {
     "name": "stdout",
     "output_type": "stream",
     "text": [
      "2023-06-19 08:21:15.824519\n"
     ]
    }
   ],
   "source": [
    "#Data and time package\n",
    "import datetime as dt\n",
    "\n",
    "x = dt.datetime.now()\n",
    "print(x)"
   ]
  },
  {
   "cell_type": "code",
   "execution_count": 5,
   "id": "7647389a",
   "metadata": {},
   "outputs": [
    {
     "name": "stdout",
     "output_type": "stream",
     "text": [
      "2023\n",
      "6\n",
      "19\n",
      "8\n"
     ]
    }
   ],
   "source": [
    "x = dt.datetime.now()\n",
    "print(x.year)\n",
    "print(x.month)\n",
    "print(x.day)\n",
    "print(x.hour)"
   ]
  },
  {
   "cell_type": "code",
   "execution_count": 13,
   "id": "702b787e",
   "metadata": {},
   "outputs": [
    {
     "name": "stdout",
     "output_type": "stream",
     "text": [
      "Monday\n",
      "Mon\n",
      "June\n",
      "Jun\n",
      "Mon Jun 19 08:22:34 2023\n",
      "20\n",
      "19\n",
      "06/19/23\n"
     ]
    }
   ],
   "source": [
    "print(x.strftime(\"%A\"))\n",
    "print(x.strftime(\"%a\"))\n",
    "print(x.strftime(\"%B\"))\n",
    "print(x.strftime(\"%b\"))\n",
    "print(x.strftime(\"%c\"))\n",
    "print(x.strftime(\"%C\"))\n",
    "print(x.strftime(\"%d\"))\n",
    "print(x.strftime(\"%D\"))\n"
   ]
  },
  {
   "cell_type": "code",
   "execution_count": 15,
   "id": "2777744a",
   "metadata": {},
   "outputs": [
    {
     "name": "stdout",
     "output_type": "stream",
     "text": [
      "Enter name = Ram\n",
      "2\n"
     ]
    }
   ],
   "source": [
    "x = dt.datetime.now().second\n",
    "name = input(\"Enter name = \")\n",
    "y = dt.datetime.now().second\n",
    "\n",
    "print(y-x)"
   ]
  },
  {
   "cell_type": "code",
   "execution_count": 17,
   "id": "82dad7a6",
   "metadata": {},
   "outputs": [
    {
     "name": "stdout",
     "output_type": "stream",
     "text": [
      "Enter otp code = 4567\n",
      "You took 21 seconts Your time is out!\n"
     ]
    }
   ],
   "source": [
    "x = dt.datetime.now().second\n",
    "otp = input(\"Enter otp code = \")\n",
    "y = dt.datetime.now().second\n",
    "if y-x < 5:\n",
    "    print(\"Please collect you cash \")\n",
    "else:\n",
    "    print(f\"You took {y-x} seconts\",\"Your time is out!\")"
   ]
  },
  {
   "cell_type": "code",
   "execution_count": 18,
   "id": "12773490",
   "metadata": {},
   "outputs": [
    {
     "data": {
      "text/plain": [
       "['.ipynb_checkpoints',\n",
       " 'bonus.ipynb',\n",
       " 'boooks.csv',\n",
       " 'data.csv',\n",
       " 'data.txt',\n",
       " 'data1.csv',\n",
       " 'data1.txt',\n",
       " 'dictionary.ipynb',\n",
       " 'file.ipynb',\n",
       " 'First_class.ipynb',\n",
       " 'function.ipynb',\n",
       " 'if else.ipynb',\n",
       " 'inheritance.ipynb',\n",
       " 'list.ipynb',\n",
       " 'loop.ipynb',\n",
       " 'new_data.csv',\n",
       " 'oop1.ipynb',\n",
       " 'pandas.ipynb',\n",
       " 'sql.ipynb',\n",
       " 'string.ipynb',\n",
       " 'tuple and set.ipynb',\n",
       " 'Untitled.ipynb',\n",
       " 'Untitled1.ipynb']"
      ]
     },
     "execution_count": 18,
     "metadata": {},
     "output_type": "execute_result"
    }
   ],
   "source": [
    "# os packages\n",
    "import os\n",
    "os.listdir()"
   ]
  },
  {
   "cell_type": "code",
   "execution_count": 19,
   "id": "dc444155",
   "metadata": {},
   "outputs": [],
   "source": [
    "os.mkdir('newFolder')"
   ]
  },
  {
   "cell_type": "code",
   "execution_count": 20,
   "id": "e91a33c5",
   "metadata": {},
   "outputs": [],
   "source": [
    "os.chdir('newFolder')"
   ]
  },
  {
   "cell_type": "code",
   "execution_count": 21,
   "id": "aa479f00",
   "metadata": {},
   "outputs": [
    {
     "data": {
      "text/plain": [
       "'C:\\\\Users\\\\Aayush\\\\Python_class_8am\\\\newFolder'"
      ]
     },
     "execution_count": 21,
     "metadata": {},
     "output_type": "execute_result"
    }
   ],
   "source": [
    "pwd"
   ]
  },
  {
   "cell_type": "code",
   "execution_count": 22,
   "id": "0baa55b5",
   "metadata": {},
   "outputs": [
    {
     "name": "stdout",
     "output_type": "stream",
     "text": [
      "C:\\Users\\Aayush\\Python_class_8am\n"
     ]
    }
   ],
   "source": [
    "cd .."
   ]
  },
  {
   "cell_type": "code",
   "execution_count": 25,
   "id": "cef66e83",
   "metadata": {},
   "outputs": [],
   "source": [
    "os.rename('New_Folder','newFolder1')"
   ]
  },
  {
   "cell_type": "code",
   "execution_count": 26,
   "id": "c5f5052a",
   "metadata": {},
   "outputs": [],
   "source": [
    "os.rmdir('newFolder1')"
   ]
  },
  {
   "cell_type": "code",
   "execution_count": null,
   "id": "3c91acce",
   "metadata": {},
   "outputs": [],
   "source": [
    "#Comprehensions: List, Dictionary"
   ]
  },
  {
   "cell_type": "code",
   "execution_count": 28,
   "id": "3acfeb47",
   "metadata": {},
   "outputs": [
    {
     "data": {
      "text/plain": [
       "[0, 1, 2, 3, 4, 5, 6, 7, 8, 9]"
      ]
     },
     "execution_count": 28,
     "metadata": {},
     "output_type": "execute_result"
    }
   ],
   "source": [
    "l = [i for i in range(10)]\n",
    "l"
   ]
  },
  {
   "cell_type": "code",
   "execution_count": 29,
   "id": "83a677f0",
   "metadata": {},
   "outputs": [
    {
     "name": "stdout",
     "output_type": "stream",
     "text": [
      "Enter valus = Ram\n",
      "Enter valus = Shyam\n",
      "Enter valus = Hari\n",
      "Enter valus = Sita\n",
      "Enter valus = Gita\n"
     ]
    },
    {
     "data": {
      "text/plain": [
       "['Ram', 'Shyam', 'Hari', 'Sita', 'Gita']"
      ]
     },
     "execution_count": 29,
     "metadata": {},
     "output_type": "execute_result"
    }
   ],
   "source": [
    "l = [input(\"Enter valus = \") for i in range(5)]\n",
    "l"
   ]
  },
  {
   "cell_type": "code",
   "execution_count": 30,
   "id": "ce9c68c0",
   "metadata": {},
   "outputs": [
    {
     "data": {
      "text/plain": [
       "['apple', 'ball', 'cat', 'dog']"
      ]
     },
     "execution_count": 30,
     "metadata": {},
     "output_type": "execute_result"
    }
   ],
   "source": [
    "l = [\"Apple\",\"Ball\",\"Cat\",\"dog\"]\n",
    "data = [i.lower() for i in l]\n",
    "data"
   ]
  },
  {
   "cell_type": "code",
   "execution_count": null,
   "id": "d1d5336c",
   "metadata": {},
   "outputs": [],
   "source": []
  },
  {
   "cell_type": "code",
   "execution_count": 35,
   "id": "8f991b84",
   "metadata": {},
   "outputs": [
    {
     "data": {
      "text/plain": [
       "{'Apple': 'apple', 'Ball': 'ball', 'Cat': 'cat', 'dog': 'dog'}"
      ]
     },
     "execution_count": 35,
     "metadata": {},
     "output_type": "execute_result"
    }
   ],
   "source": [
    "# in dict\n",
    "l = [\"Apple\",\"Ball\",\"Cat\",\"dog\"]\n",
    "\n",
    "d = {i:i.lower() for i in l}\n",
    "d"
   ]
  },
  {
   "cell_type": "code",
   "execution_count": 39,
   "id": "606445ea",
   "metadata": {},
   "outputs": [
    {
     "data": {
      "text/plain": [
       "['apple', 'ball', 'cat', 'dog']"
      ]
     },
     "execution_count": 39,
     "metadata": {},
     "output_type": "execute_result"
    }
   ],
   "source": [
    "list(d.values())"
   ]
  },
  {
   "cell_type": "code",
   "execution_count": 41,
   "id": "5b90db88",
   "metadata": {},
   "outputs": [
    {
     "data": {
      "text/plain": [
       "[('Apple', 'apple'), ('Ball', 'ball'), ('Cat', 'cat'), ('dog', 'dog')]"
      ]
     },
     "execution_count": 41,
     "metadata": {},
     "output_type": "execute_result"
    }
   ],
   "source": [
    "list(d.items())"
   ]
  },
  {
   "cell_type": "code",
   "execution_count": 42,
   "id": "c05beb64",
   "metadata": {},
   "outputs": [
    {
     "name": "stdout",
     "output_type": "stream",
     "text": [
      "Enter name = Ram\n",
      "Enter phone9808778765\n",
      "Enter name = Shyam\n",
      "Enter phone9878778765\n",
      "Enter name = Hari\n",
      "Enter phone9808778765\n",
      "Enter name = Sita\n",
      "Enter phone9808556530\n",
      "Enter name = Nabin\n",
      "Enter phone9823665439\n"
     ]
    },
    {
     "data": {
      "text/plain": [
       "{'Ram': '9808778765',\n",
       " 'Shyam': '9878778765',\n",
       " 'Hari': '9808778765',\n",
       " 'Sita': '9808556530',\n",
       " 'Nabin': '9823665439'}"
      ]
     },
     "execution_count": 42,
     "metadata": {},
     "output_type": "execute_result"
    }
   ],
   "source": [
    "d = {input(\"Enter name = \"):input(\"Enter phone\") for i in range(5)}\n",
    "d"
   ]
  },
  {
   "cell_type": "code",
   "execution_count": null,
   "id": "c5199540",
   "metadata": {},
   "outputs": [],
   "source": []
  }
 ],
 "metadata": {
  "kernelspec": {
   "display_name": "Python 3 (ipykernel)",
   "language": "python",
   "name": "python3"
  },
  "language_info": {
   "codemirror_mode": {
    "name": "ipython",
    "version": 3
   },
   "file_extension": ".py",
   "mimetype": "text/x-python",
   "name": "python",
   "nbconvert_exporter": "python",
   "pygments_lexer": "ipython3",
   "version": "3.9.12"
  }
 },
 "nbformat": 4,
 "nbformat_minor": 5
}
